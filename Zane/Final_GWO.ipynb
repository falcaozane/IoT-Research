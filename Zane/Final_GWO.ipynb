{
  "nbformat": 4,
  "nbformat_minor": 0,
  "metadata": {
    "colab": {
      "provenance": []
    },
    "kernelspec": {
      "name": "python3",
      "display_name": "Python 3"
    },
    "language_info": {
      "name": "python"
    }
  },
  "cells": [
    {
      "cell_type": "code",
      "execution_count": 1,
      "metadata": {
        "id": "pBM6CYhqK--v"
      },
      "outputs": [],
      "source": [
        "import pandas as pd\n",
        "import numpy as np\n",
        "import time\n",
        "from sklearn.model_selection import train_test_split\n",
        "from sklearn.linear_model import LinearRegression\n",
        "from sklearn.svm import SVR\n",
        "from sklearn.ensemble import RandomForestRegressor, GradientBoostingRegressor\n",
        "from sklearn.metrics import r2_score, mean_absolute_error, mean_squared_error\n",
        "from sklearn.preprocessing import LabelEncoder\n",
        "from sklearn.impute import SimpleImputer\n",
        "import matplotlib.pyplot as plt\n",
        "import seaborn as sns\n",
        "import random\n",
        "from functools import partial"
      ]
    },
    {
      "cell_type": "code",
      "source": [
        "# 1. Load the dataset\n",
        "data = pd.read_csv('/content/drive/MyDrive/AAA_BE_Major_Proj/cleaned_sensor_data.csv')\n"
      ],
      "metadata": {
        "id": "wHFhqMYiLEmY"
      },
      "execution_count": 2,
      "outputs": []
    },
    {
      "cell_type": "code",
      "source": [
        "# Check if the first row contains indexes and adjust accordingly\n",
        "if data.iloc[0, 0] == '0' and 'timestamp' not in data.columns:\n",
        "    # Create column names based on the sample provided\n",
        "    column_names = ['index', 'timestamp']\n",
        "    column_names.extend([f'sensor_{i:02d}' for i in range(52)])\n",
        "    column_names.append('machine_status')\n",
        "\n",
        "    # Load the data again with proper column names\n",
        "    data = pd.read_csv('your_dataset.csv', names=column_names)\n",
        "\n",
        "    # Drop the index column if it exists\n",
        "    if 'index' in data.columns:\n",
        "        data = data.drop('index', axis=1)\n",
        "\n",
        "# Display dataset info\n",
        "print(f\"Dataset shape: {data.shape}\")\n",
        "print(data.head())\n",
        "\n",
        "# Check for missing values\n",
        "missing_values = data.isnull().sum()\n",
        "print(\"\\nMissing values per column:\")\n",
        "print(missing_values[missing_values > 0])"
      ],
      "metadata": {
        "colab": {
          "base_uri": "https://localhost:8080/"
        },
        "id": "5SS3gPetLGO1",
        "outputId": "0f2da3a8-bb67-4f3b-d620-59ee5549186c"
      },
      "execution_count": 3,
      "outputs": [
        {
          "output_type": "stream",
          "name": "stdout",
          "text": [
            "Dataset shape: (220320, 54)\n",
            "             timestamp  Unnamed: 0  sensor_00  sensor_01  sensor_02  \\\n",
            "0  2018-04-01 00:00:00         0.0   2.465394   47.09201    53.2118   \n",
            "1  2018-04-01 00:01:00         1.0   2.465394   47.09201    53.2118   \n",
            "2  2018-04-01 00:02:00         2.0   2.444734   47.35243    53.2118   \n",
            "3  2018-04-01 00:03:00         3.0   2.460474   47.09201    53.1684   \n",
            "4  2018-04-01 00:04:00         4.0   2.445718   47.13541    53.2118   \n",
            "\n",
            "   sensor_03  sensor_04  sensor_05  sensor_06  sensor_07  ...  sensor_43  \\\n",
            "0  46.310760   634.3750   76.45975   13.41146   16.13136  ...   41.92708   \n",
            "1  46.310760   634.3750   76.45975   13.41146   16.13136  ...   41.92708   \n",
            "2  46.397570   638.8889   73.54598   13.32465   16.03733  ...   41.66666   \n",
            "3  46.397568   628.1250   76.98898   13.31742   16.24711  ...   40.88541   \n",
            "4  46.397568   636.4583   76.58897   13.35359   16.21094  ...   41.40625   \n",
            "\n",
            "   sensor_44  sensor_45  sensor_46  sensor_47  sensor_48  sensor_49  \\\n",
            "0  39.641200   65.68287   50.92593  38.194440   157.9861   67.70834   \n",
            "1  39.641200   65.68287   50.92593  38.194440   157.9861   67.70834   \n",
            "2  39.351852   65.39352   51.21528  38.194443   155.9606   67.12963   \n",
            "3  39.062500   64.81481   51.21528  38.194440   155.9606   66.84028   \n",
            "4  38.773150   65.10416   51.79398  38.773150   158.2755   66.55093   \n",
            "\n",
            "   sensor_50  sensor_51  machine_status  \n",
            "0   243.0556   201.3889          NORMAL  \n",
            "1   243.0556   201.3889          NORMAL  \n",
            "2   241.3194   203.7037          NORMAL  \n",
            "3   240.4514   203.1250          NORMAL  \n",
            "4   242.1875   201.3889          NORMAL  \n",
            "\n",
            "[5 rows x 54 columns]\n",
            "\n",
            "Missing values per column:\n",
            "Series([], dtype: int64)\n"
          ]
        }
      ]
    },
    {
      "cell_type": "code",
      "source": [
        "# Handle missing values\n",
        "print(\"\\nHandling missing values...\")\n",
        "\n",
        "# Remove columns with extremely high missing values (e.g., >50% missing)\n",
        "cols_to_drop = []\n",
        "for col in data.columns:\n",
        "    if col != 'machine_status' and col != 'timestamp':\n",
        "        if data[col].isnull().sum() > len(data) * 0.5:\n",
        "            cols_to_drop.append(col)\n",
        "\n",
        "print(f\"Dropping columns with >50% missing values: {cols_to_drop}\")\n",
        "data = data.drop(cols_to_drop, axis=1)"
      ],
      "metadata": {
        "colab": {
          "base_uri": "https://localhost:8080/"
        },
        "id": "og6mR1DGLNvZ",
        "outputId": "70f51870-440d-4f94-8f1e-3cbdaaead588"
      },
      "execution_count": 4,
      "outputs": [
        {
          "output_type": "stream",
          "name": "stdout",
          "text": [
            "\n",
            "Handling missing values...\n",
            "Dropping columns with >50% missing values: []\n"
          ]
        }
      ]
    },
    {
      "cell_type": "code",
      "source": [
        "# For remaining columns, use median imputation (fast and robust)\n",
        "if 'timestamp' in data.columns:\n",
        "    X = data.drop(['timestamp', 'machine_status'], axis=1)\n",
        "else:\n",
        "    X = data.drop(['machine_status'], axis=1)\n",
        "\n",
        "print(\"Using median imputation for remaining missing values...\")\n",
        "imputer = SimpleImputer(strategy='median')\n",
        "X_imputed = imputer.fit_transform(X)\n",
        "\n",
        "# Convert back to DataFrame if needed\n",
        "X_imputed_df = pd.DataFrame(X_imputed, columns=X.columns, index=X.index)\n",
        "\n",
        "# Combine with the target variable and timestamp if needed\n",
        "if 'timestamp' in data.columns:\n",
        "    result_data = pd.concat([data[['timestamp']], X_imputed_df, data[['machine_status']]], axis=1)\n",
        "else:\n",
        "    result_data = pd.concat([X_imputed_df, data[['machine_status']]], axis=1)\n",
        "\n",
        "# Save the cleaned dataset to CSV\n",
        "output_path = \"/content/drive/MyDrive/AAA_BE_Major_Proj/cleaned.csv\"  # Replace with your desired path\n",
        "result_data.to_csv(output_path, index=False)\n",
        "print(f\"Missing value handling complete. Cleaned dataset saved to {output_path}\")\n",
        "\n",
        "# Convert back to DataFrame to keep column names\n",
        "X_imputed_df = pd.DataFrame(X_imputed, columns=X.columns)"
      ],
      "metadata": {
        "colab": {
          "base_uri": "https://localhost:8080/"
        },
        "id": "pFgCNNYpLPM1",
        "outputId": "0b851b24-ccfc-4ced-988e-5a4564eb343b"
      },
      "execution_count": 5,
      "outputs": [
        {
          "output_type": "stream",
          "name": "stdout",
          "text": [
            "Using median imputation for remaining missing values...\n",
            "Missing value handling complete. Cleaned dataset saved to /content/drive/MyDrive/AAA_BE_Major_Proj/cleaned.csv\n"
          ]
        }
      ]
    },
    {
      "cell_type": "code",
      "source": [
        "# Encode the target variable if needed\n",
        "y = data['machine_status']\n",
        "if y.dtype == object:  # If the target is categorical\n",
        "    le = LabelEncoder()\n",
        "    y_encoded = le.fit_transform(y)\n",
        "    print(f\"Encoded machine status: {dict(zip(le.classes_, range(len(le.classes_))))}\")\n",
        "else:\n",
        "    y_encoded = y"
      ],
      "metadata": {
        "colab": {
          "base_uri": "https://localhost:8080/"
        },
        "id": "mTR308faLQmR",
        "outputId": "943f14de-4406-4aee-bbcf-c4b47090b09c"
      },
      "execution_count": 6,
      "outputs": [
        {
          "output_type": "stream",
          "name": "stdout",
          "text": [
            "Encoded machine status: {'BROKEN': 0, 'NORMAL': 1, 'RECOVERING': 2}\n"
          ]
        }
      ]
    },
    {
      "cell_type": "code",
      "source": [
        "# Split data\n",
        "X_train, X_test, y_train, y_test = train_test_split(X_imputed, y_encoded, test_size=0.3, random_state=42)\n"
      ],
      "metadata": {
        "id": "7_wPqr2rLaNt"
      },
      "execution_count": 7,
      "outputs": []
    },
    {
      "cell_type": "code",
      "source": [
        "# Encode the target variable if needed\n",
        "y = data['machine_status']\n",
        "if y.dtype == object:  # If the target is categorical\n",
        "    le = LabelEncoder()\n",
        "    y_encoded = le.fit_transform(y)\n",
        "    print(f\"Encoded machine status: {dict(zip(le.classes_, range(len(le.classes_))))}\")\n",
        "else:\n",
        "    y_encoded = y\n",
        "\n",
        "# Sample the dataset\n",
        "sample_sizes = [1000]  # You can adjust these sizes\n",
        "print(\"\\nChoosing sample sizes for experiments:\")\n",
        "\n",
        "for sample_size in sample_sizes:\n",
        "    # Ensure sample_size doesn't exceed total dataset size\n",
        "    sample_size = min(sample_size, len(X_imputed))\n",
        "\n",
        "    # Randomly sample the data\n",
        "    indices = np.random.choice(X_imputed.shape[0], sample_size, replace=False)\n",
        "    X_sample = X_imputed[indices]\n",
        "    y_sample = y_encoded[indices]\n",
        "\n",
        "    print(f\"\\nExperiment with sample size: {sample_size}\")\n",
        "\n",
        "    # Split sampled data\n",
        "    X_train, X_test, y_train, y_test = train_test_split(X_sample, y_sample, test_size=0.3, random_state=42)\n",
        "\n",
        "    # Rest of the existing code remains the same from here...\n",
        "    # (The PSO optimization, model training, etc. will now use these sampled datasets)"
      ],
      "metadata": {
        "colab": {
          "base_uri": "https://localhost:8080/"
        },
        "id": "d4AbRVdyLSmB",
        "outputId": "61f596e9-7699-48e3-f4e5-46b4897c7d40"
      },
      "execution_count": 8,
      "outputs": [
        {
          "output_type": "stream",
          "name": "stdout",
          "text": [
            "Encoded machine status: {'BROKEN': 0, 'NORMAL': 1, 'RECOVERING': 2}\n",
            "\n",
            "Choosing sample sizes for experiments:\n",
            "\n",
            "Experiment with sample size: 1000\n"
          ]
        }
      ]
    },
    {
      "cell_type": "code",
      "source": [
        "# Gray Wolf Optimization Implementation\n",
        "class GrayWolfOptimizer:\n",
        "    def __init__(self, num_wolves, max_iter, dim):\n",
        "        self.num_wolves = num_wolves\n",
        "        self.max_iter = max_iter\n",
        "        self.dim = dim\n",
        "\n",
        "    def initialize_wolves(self):\n",
        "        # Initialize wolves with binary values\n",
        "        return np.random.randint(2, size=(self.num_wolves, self.dim))\n",
        "\n",
        "    def fitness_function(self, wolves, X_train, X_test, y_train, y_test, alpha=0.5):\n",
        "        \"\"\"\n",
        "        Fitness function for feature selection\n",
        "        \"\"\"\n",
        "        fitness_values = []\n",
        "\n",
        "        for wolf in wolves:\n",
        "            # Skip wolves with no features selected\n",
        "            if np.sum(wolf) == 0:\n",
        "                fitness_values.append(float('inf'))\n",
        "                continue\n",
        "\n",
        "            # Get selected feature indices\n",
        "            selected_features = np.where(wolf == 1)[0]\n",
        "\n",
        "            # Use SVR for fitness evaluation\n",
        "            try:\n",
        "                clf = SVR()\n",
        "\n",
        "                # Train using selected features\n",
        "                X_train_selected = X_train[:, selected_features]\n",
        "                X_test_selected = X_test[:, selected_features]\n",
        "\n",
        "                clf.fit(X_train_selected, y_train)\n",
        "                y_pred = clf.predict(X_test_selected)\n",
        "\n",
        "                # Calculate Mean Squared Error\n",
        "                mse = mean_squared_error(y_test, y_pred)\n",
        "\n",
        "                # Combine MSE with feature count penalty\n",
        "                fitness = alpha * mse + (1.0 - alpha) * (np.sum(wolf) / self.dim)\n",
        "                fitness_values.append(fitness)\n",
        "            except:\n",
        "                fitness_values.append(float('inf'))\n",
        "\n",
        "        return np.array(fitness_values)\n",
        "\n",
        "    def optimize(self, fitness_func, X_train, X_test, y_train, y_test):\n",
        "        # Initialize population\n",
        "        wolves = self.initialize_wolves()\n",
        "\n",
        "        # Iteration process\n",
        "        for iter in range(self.max_iter):\n",
        "            # Evaluate fitness\n",
        "            fitness = fitness_func(wolves, X_train, X_test, y_train, y_test)\n",
        "\n",
        "            # Sort wolves based on fitness\n",
        "            sorted_indices = np.argsort(fitness)\n",
        "\n",
        "            # Select top 3 wolves (alpha, beta, delta)\n",
        "            alpha_wolf = wolves[sorted_indices[0]]\n",
        "            beta_wolf = wolves[sorted_indices[1]] if len(sorted_indices) > 1 else alpha_wolf\n",
        "            delta_wolf = wolves[sorted_indices[2]] if len(sorted_indices) > 2 else alpha_wolf\n",
        "\n",
        "            # Update other wolves (including a mutation mechanism)\n",
        "            new_wolves = []\n",
        "            for wolf in wolves:\n",
        "                # Crossover and mutation\n",
        "                new_wolf = wolf.copy()\n",
        "                for j in range(self.dim):\n",
        "                    # Mutate based on top wolves\n",
        "                    if np.random.random() < 0.3:  # mutation probability\n",
        "                        new_wolf[j] = 1 - new_wolf[j]\n",
        "\n",
        "                new_wolves.append(new_wolf)\n",
        "\n",
        "            wolves = np.array(new_wolves)\n",
        "\n",
        "        # Return best wolf (feature selection mask)\n",
        "        best_wolf_index = np.argmin(fitness)\n",
        "        return wolves[best_wolf_index]"
      ],
      "metadata": {
        "id": "Ey_GHLLJLcKs"
      },
      "execution_count": 9,
      "outputs": []
    },
    {
      "cell_type": "code",
      "source": [
        "n_features = X_train.shape[1]\n",
        "n_reduced_features = 20"
      ],
      "metadata": {
        "id": "npVCVcnbLlVp"
      },
      "execution_count": 10,
      "outputs": []
    },
    {
      "cell_type": "code",
      "source": [
        "# Measure computation time\n",
        "start_time = time.time()\n",
        "\n",
        "# Set up GWO parameters\n",
        "num_wolves = 30\n",
        "max_iterations = 20"
      ],
      "metadata": {
        "id": "rI2R2JQ8Lt0S"
      },
      "execution_count": 11,
      "outputs": []
    },
    {
      "cell_type": "code",
      "source": [
        "# Initialize and run GWO\n",
        "gwo = GrayWolfOptimizer(num_wolves, max_iterations, n_features)\n"
      ],
      "metadata": {
        "id": "cyQWvKPkLwNE"
      },
      "execution_count": 12,
      "outputs": []
    },
    {
      "cell_type": "code",
      "source": [
        "# Perform optimization\n",
        "def gwo_fitness_func(wolves, X_train, X_test, y_train, y_test):\n",
        "    return gwo.fitness_function(wolves, X_train, X_test, y_train, y_test)\n",
        "\n",
        "# Optimize feature selection\n",
        "pos = gwo.optimize(gwo_fitness_func, X_train, X_test, y_train, y_test)\n",
        "\n",
        "# Get selected feature indices\n",
        "selected_features = np.where(pos == 1)[0]\n",
        "print(f\"Selected features: {selected_features}\")\n",
        "print(f\"Number of selected features: {len(selected_features)}\")"
      ],
      "metadata": {
        "colab": {
          "base_uri": "https://localhost:8080/"
        },
        "id": "3CIfpSMvLx_B",
        "outputId": "2ac4a84a-fa62-4953-ac6e-dc908a30afae"
      },
      "execution_count": 13,
      "outputs": [
        {
          "output_type": "stream",
          "name": "stdout",
          "text": [
            "Selected features: [ 2  3  5  8 10 13 14 15 17 19 24 29 30 32 34 37 38 39 41 44 46 47 49]\n",
            "Number of selected features: 23\n"
          ]
        }
      ]
    },
    {
      "cell_type": "code",
      "source": [
        "# Create reduced datasets\n",
        "X_train_gwo = X_train[:, selected_features]\n",
        "X_test_gwo = X_test[:, selected_features]\n",
        "gwo_time = time.time() - start_time\n",
        "\n",
        "# Get GWO feature information\n",
        "feature_names = X.columns if isinstance(X, pd.DataFrame) else [f'sensor_{i:02d}' for i in range(X_imputed.shape[1])]\n",
        "selected_feature_names = [feature_names[i] for i in selected_features]\n",
        "\n",
        "print(f\"Original features: {X_train.shape[1]}\")\n",
        "print(f\"Reduced features: {len(selected_features)}\")\n",
        "print(f\"GWO computation time: {gwo_time:.4f} seconds\")\n",
        "print(f\"Selected feature names: {selected_feature_names}\")\n"
      ],
      "metadata": {
        "colab": {
          "base_uri": "https://localhost:8080/"
        },
        "id": "rakkD39AL1Rf",
        "outputId": "5d83e604-6680-4b47-ce07-eefd37577938"
      },
      "execution_count": 14,
      "outputs": [
        {
          "output_type": "stream",
          "name": "stdout",
          "text": [
            "Original features: 52\n",
            "Reduced features: 23\n",
            "GWO computation time: 7.0295 seconds\n",
            "Selected feature names: ['sensor_01', 'sensor_02', 'sensor_04', 'sensor_07', 'sensor_09', 'sensor_12', 'sensor_13', 'sensor_14', 'sensor_17', 'sensor_19', 'sensor_24', 'sensor_29', 'sensor_30', 'sensor_32', 'sensor_34', 'sensor_37', 'sensor_38', 'sensor_39', 'sensor_41', 'sensor_44', 'sensor_46', 'sensor_47', 'sensor_49']\n"
          ]
        }
      ]
    },
    {
      "cell_type": "code",
      "source": [
        "# 4-5. Train models on original dataset and calculate accuracy\n",
        "models = {\n",
        "    'Linear Regression': LinearRegression(),\n",
        "    'SVM Regression': SVR(),\n",
        "    'Random Forest': RandomForestRegressor(random_state=42),\n",
        "    'Gradient Boosting': GradientBoostingRegressor(random_state=42)\n",
        "}\n",
        "\n",
        "original_results = {}\n",
        "original_times = {}\n",
        "\n",
        "for name, model in models.items():\n",
        "    print(f\"Training {name} on original dataset...\")\n",
        "    start_time = time.time()\n",
        "\n",
        "    # Train model\n",
        "    model.fit(X_train, y_train)\n",
        "\n",
        "    # Make predictions\n",
        "    y_pred = model.predict(X_test)\n",
        "\n",
        "    # Calculate metrics\n",
        "    r2 = r2_score(y_test, y_pred)\n",
        "    mae = mean_absolute_error(y_test, y_pred)\n",
        "    rmse = np.sqrt(mean_squared_error(y_test, y_pred))\n",
        "\n",
        "    train_time = time.time() - start_time\n",
        "\n",
        "    original_results[name] = {\n",
        "        'R2': r2,\n",
        "        'MAE': mae,\n",
        "        'RMSE': rmse\n",
        "    }\n",
        "    original_times[name] = train_time\n",
        "\n",
        "    print(f\"{name} trained in {train_time:.4f} seconds\")"
      ],
      "metadata": {
        "colab": {
          "base_uri": "https://localhost:8080/"
        },
        "id": "_Np3TX-uMB1J",
        "outputId": "7be8bf11-7295-4192-9237-b5d2a10fa511"
      },
      "execution_count": 15,
      "outputs": [
        {
          "output_type": "stream",
          "name": "stdout",
          "text": [
            "Training Linear Regression on original dataset...\n",
            "Linear Regression trained in 0.0262 seconds\n",
            "Training SVM Regression on original dataset...\n",
            "SVM Regression trained in 0.0195 seconds\n",
            "Training Random Forest on original dataset...\n",
            "Random Forest trained in 0.6562 seconds\n",
            "Training Gradient Boosting on original dataset...\n",
            "Gradient Boosting trained in 0.9250 seconds\n"
          ]
        }
      ]
    },
    {
      "cell_type": "code",
      "source": [
        "# 6-7. Train models on reduced dataset and calculate accuracy\n",
        "reduced_results = {}\n",
        "reduced_times = {}\n",
        "\n",
        "for name, model in models.items():\n",
        "    print(f\"Training {name} on reduced dataset...\")\n",
        "    start_time = time.time()\n",
        "\n",
        "    # Train model\n",
        "    model.fit(X_train_gwo, y_train)\n",
        "\n",
        "    # Make predictions\n",
        "    y_pred = model.predict(X_test_gwo)\n",
        "\n",
        "    # Calculate metrics\n",
        "    r2 = r2_score(y_test, y_pred)\n",
        "    mae = mean_absolute_error(y_test, y_pred)\n",
        "    rmse = np.sqrt(mean_squared_error(y_test, y_pred))\n",
        "\n",
        "    train_time = time.time() - start_time\n",
        "\n",
        "    reduced_results[name] = {\n",
        "        'R2': r2,\n",
        "        'MAE': mae,\n",
        "        'RMSE': rmse\n",
        "    }\n",
        "    reduced_times[name] = train_time\n",
        "\n",
        "    print(f\"{name} trained in {train_time:.4f} seconds\")"
      ],
      "metadata": {
        "colab": {
          "base_uri": "https://localhost:8080/"
        },
        "id": "6qIwsYTvMSWF",
        "outputId": "00a5802c-4752-401c-e6b6-6695f7c377ed"
      },
      "execution_count": 16,
      "outputs": [
        {
          "output_type": "stream",
          "name": "stdout",
          "text": [
            "Training Linear Regression on reduced dataset...\n",
            "Linear Regression trained in 0.0041 seconds\n",
            "Training SVM Regression on reduced dataset...\n",
            "SVM Regression trained in 0.0105 seconds\n",
            "Training Random Forest on reduced dataset...\n",
            "Random Forest trained in 0.3705 seconds\n",
            "Training Gradient Boosting on reduced dataset...\n",
            "Gradient Boosting trained in 0.6716 seconds\n"
          ]
        }
      ]
    },
    {
      "cell_type": "code",
      "source": [
        "# 8. Display results\n",
        "print(\"\\n--- DIMENSIONALITY REDUCTION RESULTS (ACO) ---\")\n",
        "print(f\"a) Features Reduced: {X_train.shape[1]} -> {len(selected_features)} ({X_train.shape[1] - len(selected_features)} features removed)\")\n",
        "print(f\"b) GWO Computation Time: {gwo_time:.4f} seconds\")\n",
        "\n",
        "# Display R2 values for all models\n",
        "print(\"\\nc) R-squared Values:\")\n",
        "for name in models.keys():\n",
        "    print(f\"   {name}: Original = {original_results[name]['R2']:.4f}, Reduced (ACO) = {reduced_results[name]['R2']:.4f}\")\n",
        "\n",
        "# Display model accuracies (using R2 as accuracy metric for regression)\n",
        "print(\"\\nd) Model Accuracy with Original Dataset (R2):\")\n",
        "for name, result in original_results.items():\n",
        "    print(f\"   {name}: {result['R2']:.4f} (Training time: {original_times[name]:.4f} seconds)\")\n",
        "\n",
        "print(\"\\ne) Model Accuracy with Reduced Dataset (ACO) (R2):\")\n",
        "for name, result in reduced_results.items():\n",
        "    print(f\"   {name}: {result['R2']:.4f} (Training time: {reduced_times[name]:.4f} seconds)\")\n"
      ],
      "metadata": {
        "colab": {
          "base_uri": "https://localhost:8080/"
        },
        "id": "DYWLL4euMTuX",
        "outputId": "ae1c5df2-0628-4e28-a691-27fe9a363b6d"
      },
      "execution_count": 23,
      "outputs": [
        {
          "output_type": "stream",
          "name": "stdout",
          "text": [
            "\n",
            "--- DIMENSIONALITY REDUCTION RESULTS (ACO) ---\n",
            "a) Features Reduced: 52 -> 23 (29 features removed)\n",
            "b) GWO Computation Time: 7.0295 seconds\n",
            "\n",
            "c) R-squared Values:\n",
            "   Linear Regression: Original = 0.7815, Reduced (ACO) = 0.8377\n",
            "   SVM Regression: Original = -0.0124, Reduced (ACO) = 0.7627\n",
            "   Random Forest: Original = 0.9006, Reduced (ACO) = 0.8863\n",
            "   Gradient Boosting: Original = 0.8523, Reduced (ACO) = 0.8049\n",
            "\n",
            "d) Model Accuracy with Original Dataset (R2):\n",
            "   Linear Regression: 0.7815 (Training time: 0.0262 seconds)\n",
            "   SVM Regression: -0.0124 (Training time: 0.0195 seconds)\n",
            "   Random Forest: 0.9006 (Training time: 0.6562 seconds)\n",
            "   Gradient Boosting: 0.8523 (Training time: 0.9250 seconds)\n",
            "\n",
            "e) Model Accuracy with Reduced Dataset (ACO) (R2):\n",
            "   Linear Regression: 0.8377 (Training time: 0.0041 seconds)\n",
            "   SVM Regression: 0.7627 (Training time: 0.0105 seconds)\n",
            "   Random Forest: 0.8863 (Training time: 0.3705 seconds)\n",
            "   Gradient Boosting: 0.8049 (Training time: 0.6716 seconds)\n"
          ]
        }
      ]
    },
    {
      "cell_type": "code",
      "source": [
        "# Create visualization for the results\n",
        "plt.figure(figsize=(12, 6))\n",
        "\n",
        "# Plot model performance comparison\n",
        "models_list = list(models.keys())\n",
        "original_r2 = [original_results[name]['R2'] for name in models_list]\n",
        "reduced_r2 = [reduced_results[name]['R2'] for name in models_list]\n",
        "\n",
        "x = np.arange(len(models_list))\n",
        "width = 0.35\n",
        "\n",
        "plt.subplot(1, 2, 1)\n",
        "plt.bar(x - width/2, original_r2, width, label='Original Dataset')\n",
        "plt.bar(x + width/2, reduced_r2, width, label='GWO Reduced Dataset')\n",
        "plt.xlabel('Models')\n",
        "plt.ylabel('R² Score')\n",
        "plt.title('Model Performance Comparison')\n",
        "plt.xticks(x, models_list, rotation=45)\n",
        "plt.legend()\n",
        "plt.tight_layout()\n",
        "\n",
        "# Plot ACO convergence (create simulated data for this example)\n",
        "# In real implementation, you would track best score per iteration\n",
        "#plt.subplot(1, 2, 2)\n",
        "# Create a convergence plot based on the best score's improvement\n",
        "#iterations = range(1, gwo.n_iterations + 1)\n",
        "# Simulated convergence curve\n",
        "#convergence = [0.5 + 0.4 * (1 - np.exp(-i/10)) + np.random.normal(0, 0.01) for i in iterations]\n",
        "#plt.plot(iterations, convergence, marker='o')\n",
        "#plt.xlabel('Number of Iterations')\n",
        "#plt.ylabel('Best Solution Score (R²)')\n",
        "#plt.title('GWO Convergence')\n",
        "#plt.grid(True)\n",
        "#plt.tight_layout()\n",
        "#\n",
        "#plt.savefig('gwo_results.png')\n",
        "#plt.show()\n",
        "\n",
        "# Summary table\n",
        "performance_summary = pd.DataFrame({\n",
        "    'Original Dataset R²': original_r2,\n",
        "    'GWO Reduced Dataset R²': reduced_r2,\n",
        "    'R² Difference': np.array(reduced_r2) - np.array(original_r2),\n",
        "    'Original Training Time (s)': [original_times[name] for name in models_list],\n",
        "    'Reduced Training Time (s)': [reduced_times[name] for name in models_list],\n",
        "    'Time Savings (%)': [(1 - reduced_times[name]/original_times[name]) * 100 for name in models_list]\n",
        "}, index=models_list)\n",
        "\n",
        "print(\"\\nPerformance Summary:\")\n",
        "print(performance_summary)\n",
        "\n",
        "# Save results to CSV\n",
        "performance_summary.to_csv('gwo_performance_summary.csv')\n",
        "\n",
        "# Feature importance visualization\n",
        "#plt.figure(figsize=(14, 10))\n",
        "#feature_importance = np.zeros(len(feature_names))\n",
        "## Set importance to 1 for selected features\n",
        "#for i, selected in enumerate(gwo.best_solution):\n",
        "#    if selected:\n",
        "#        feature_importance[i] = 1\n",
        "#\n",
        "## Sort feature importance for visualization\n",
        "#sorted_indices = np.argsort(feature_importance)[::-1]\n",
        "#selected_features_sorted = [feature_names[i] for i in sorted_indices if feature_importance[i] > 0]\n",
        "\n",
        "# Plot selected features\n",
        "#plt.subplot(1, 1, 1)\n",
        "#if selected_features:\n",
        "#    # Get feature importance from a random forest model trained on selected features\n",
        "#    rf = RandomForestRegressor(n_estimators=100, random_state=42)\n",
        "#    X_selected = X_train[:, gwo.best_solution]\n",
        "#    rf.fit(X_selected, y_train)\n",
        "#\n",
        "#    # Use feature importance from random forest for selected features\n",
        "#    selected_importance = rf.feature_importances_\n",
        "#\n",
        "#    # Plot top 20 (or all if less) features\n",
        "#    top_n = min(20, len(selected_features))\n",
        "#    importance_sorted_idx = np.argsort(selected_importance)[::-1][:top_n]\n",
        "#    top_features = [selected_features[i] for i in importance_sorted_idx]\n",
        "#\n",
        "#    plt.barh(range(len(top_features)), selected_importance[importance_sorted_idx])\n",
        "#    plt.yticks(range(len(top_features)), top_features)\n",
        "#    plt.xlabel('Feature Importance')\n",
        "#    plt.title('Top Features Selected by GWO')\n",
        "#else:\n",
        "#    plt.text(0.5, 0.5, \"No features selected\", horizontalalignment='center', verticalalignment='center')\n",
        "#\n",
        "#plt.tight_layout()\n",
        "#plt.savefig('gwo_feature_importance.png')\n",
        "#plt.show()"
      ],
      "metadata": {
        "colab": {
          "base_uri": "https://localhost:8080/",
          "height": 937
        },
        "id": "GkxhOgAIMU9q",
        "outputId": "55f310ee-d273-4dc7-e917-c80d068a47d9"
      },
      "execution_count": 24,
      "outputs": [
        {
          "output_type": "stream",
          "name": "stdout",
          "text": [
            "\n",
            "Performance Summary:\n",
            "                   Original Dataset R²  GWO Reduced Dataset R²  R² Difference  \\\n",
            "Linear Regression             0.781523                0.837686       0.056162   \n",
            "SVM Regression               -0.012380                0.762743       0.775123   \n",
            "Random Forest                 0.900587                0.886289      -0.014298   \n",
            "Gradient Boosting             0.852253                0.804859      -0.047394   \n",
            "\n",
            "                   Original Training Time (s)  Reduced Training Time (s)  \\\n",
            "Linear Regression                    0.026168                   0.004120   \n",
            "SVM Regression                       0.019517                   0.010498   \n",
            "Random Forest                        0.656250                   0.370464   \n",
            "Gradient Boosting                    0.925022                   0.671622   \n",
            "\n",
            "                   Time Savings (%)  \n",
            "Linear Regression         84.255075  \n",
            "SVM Regression            46.212482  \n",
            "Random Forest             43.548402  \n",
            "Gradient Boosting         27.393968  \n"
          ]
        },
        {
          "output_type": "display_data",
          "data": {
            "text/plain": [
              "<Figure size 1200x600 with 1 Axes>"
            ],
            "image/png": "[encoded data removed]"
          },
          "metadata": {}
        }
      ]
    },
    {
      "cell_type": "code",
      "source": [],
      "metadata": {
        "id": "lOwSXkuiMWcd"
      },
      "execution_count": 24,
      "outputs": []
    }
  ]
}